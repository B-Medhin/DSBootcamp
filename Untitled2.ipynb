{
  "nbformat": 4,
  "nbformat_minor": 0,
  "metadata": {
    "colab": {
      "provenance": [],
      "authorship_tag": "ABX9TyM1LtHiBA3cOL084DNfCWDU",
      "include_colab_link": true
    },
    "kernelspec": {
      "name": "python3",
      "display_name": "Python 3"
    },
    "language_info": {
      "name": "python"
    }
  },
  "cells": [
    {
      "cell_type": "markdown",
      "metadata": {
        "id": "view-in-github",
        "colab_type": "text"
      },
      "source": [
        "<a href=\"https://colab.research.google.com/github/B-Medhin/DSBootcamp/blob/main/Untitled2.ipynb\" target=\"_parent\"><img src=\"https://colab.research.google.com/assets/colab-badge.svg\" alt=\"Open In Colab\"/></a>"
      ]
    },
    {
      "cell_type": "code",
      "execution_count": null,
      "metadata": {
        "id": "xZl8sogjmqKE"
      },
      "outputs": [],
      "source": [
        "[1,2,3,4]"
      ]
    },
    {
      "cell_type": "markdown",
      "source": [
        "The line, y=x creates a reference to the same list object in memory that x refers to. Therefore, modifying y means modifying the same list that x points to."
      ],
      "metadata": {
        "id": "lNnvagqTmsnY"
      }
    }
  ]
}