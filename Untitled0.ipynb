{
  "nbformat": 4,
  "nbformat_minor": 0,
  "metadata": {
    "colab": {
      "provenance": [],
      "authorship_tag": "ABX9TyMQe3nKqYu9Rc0bu4qfI/YJ",
      "include_colab_link": true
    },
    "kernelspec": {
      "name": "python3",
      "display_name": "Python 3"
    },
    "language_info": {
      "name": "python"
    }
  },
  "cells": [
    {
      "cell_type": "markdown",
      "metadata": {
        "id": "view-in-github",
        "colab_type": "text"
      },
      "source": [
        "<a href=\"https://colab.research.google.com/github/B-Medhin/DSBootcamp/blob/main/Untitled0.ipynb\" target=\"_parent\"><img src=\"https://colab.research.google.com/assets/colab-badge.svg\" alt=\"Open In Colab\"/></a>"
      ]
    },
    {
      "cell_type": "code",
      "execution_count": null,
      "metadata": {
        "id": "dbmEPZPEayKb"
      },
      "outputs": [],
      "source": [
        "my_list=[True,\"T\"]\n",
        "my_dict={\"year\":3,\"dep\":\"CSE\"}\n",
        "import numpy\n",
        "arr=numpy.array([5,2,3])"
      ]
    },
    {
      "cell_type": "markdown",
      "source": [
        "A list is an ordered and mutable collections of various data types.\n",
        "A dictionary is a set of key value pairs that can be accessed by their key value(by default).\n",
        "A numpy array is a special type of multi-dimensional that is efficient for fast computation array from a library called numpy.\n"
      ],
      "metadata": {
        "id": "K0MNWdPMbOMn"
      }
    },
    {
      "cell_type": "markdown",
      "source": [],
      "metadata": {
        "id": "tIM80gAQbMMt"
      }
    }
  ]
}