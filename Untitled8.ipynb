{
  "nbformat": 4,
  "nbformat_minor": 0,
  "metadata": {
    "colab": {
      "provenance": [],
      "authorship_tag": "ABX9TyNxP/WnJiWqavMh3U43fXQC",
      "include_colab_link": true
    },
    "kernelspec": {
      "name": "python3",
      "display_name": "Python 3"
    },
    "language_info": {
      "name": "python"
    }
  },
  "cells": [
    {
      "cell_type": "markdown",
      "metadata": {
        "id": "view-in-github",
        "colab_type": "text"
      },
      "source": [
        "<a href=\"https://colab.research.google.com/github/B-Medhin/DSBootcamp/blob/main/Untitled8.ipynb\" target=\"_parent\"><img src=\"https://colab.research.google.com/assets/colab-badge.svg\" alt=\"Open In Colab\"/></a>"
      ]
    },
    {
      "cell_type": "code",
      "execution_count": null,
      "metadata": {
        "colab": {
          "base_uri": "https://localhost:8080/"
        },
        "id": "jr9aEzQKMEbc",
        "outputId": "696a29f3-7a30-4bb0-c79f-3818c66b5591"
      },
      "outputs": [
        {
          "output_type": "stream",
          "name": "stdout",
          "text": [
            "Category\n",
            "Clothing        800\n",
            "Electronics    1800\n",
            "Name: Sales, dtype: int64\n"
          ]
        }
      ],
      "source": [
        "import pandas as pd\n",
        "data = {'Category': ['Electronics', 'Clothing', 'Electronics', 'Clothing'],\n",
        "        'Sales': [1000, 500, 800, 300]}\n",
        "df = pd.DataFrame(data)\n",
        "grouped = df.groupby('Category')['Sales'].sum()\n",
        "print(grouped)"
      ]
    },
    {
      "cell_type": "markdown",
      "source": [
        ".groupby() helps us to split the data into groups, Apply a function to each group independently and finally combine the results into a new DataFrame."
      ],
      "metadata": {
        "id": "e6rnejz7MFGQ"
      }
    }
  ]
}