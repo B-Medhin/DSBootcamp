{
  "nbformat": 4,
  "nbformat_minor": 0,
  "metadata": {
    "colab": {
      "provenance": [],
      "authorship_tag": "ABX9TyOw0iU8EVhfs/vLAIkq4QTi",
      "include_colab_link": true
    },
    "kernelspec": {
      "name": "python3",
      "display_name": "Python 3"
    },
    "language_info": {
      "name": "python"
    }
  },
  "cells": [
    {
      "cell_type": "markdown",
      "metadata": {
        "id": "view-in-github",
        "colab_type": "text"
      },
      "source": [
        "<a href=\"https://colab.research.google.com/github/B-Medhin/DSBootcamp/blob/main/Untitled9.ipynb\" target=\"_parent\"><img src=\"https://colab.research.google.com/assets/colab-badge.svg\" alt=\"Open In Colab\"/></a>"
      ]
    },
    {
      "cell_type": "code",
      "execution_count": null,
      "metadata": {
        "id": "hr-gxLNwFHms"
      },
      "outputs": [],
      "source": [
        "high_std=[400,1000,23,827,123]\n",
        "low_std=[430,423,433,431]"
      ]
    },
    {
      "cell_type": "markdown",
      "source": [
        "A data with a high standard deviation has values that are highly spread out. The high standard deviation data, has a more spread out data. Which ranges from 23 upto 1000. whereas the low standard deviation data ranges between 423 upto 433 with closer values."
      ],
      "metadata": {
        "id": "Z4t2bpX1F-sw"
      }
    }
  ]
}