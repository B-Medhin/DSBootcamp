{
  "nbformat": 4,
  "nbformat_minor": 0,
  "metadata": {
    "colab": {
      "provenance": [],
      "authorship_tag": "ABX9TyMHKOjxysbJfx8tJMwfUM1I",
      "include_colab_link": true
    },
    "kernelspec": {
      "name": "python3",
      "display_name": "Python 3"
    },
    "language_info": {
      "name": "python"
    }
  },
  "cells": [
    {
      "cell_type": "markdown",
      "metadata": {
        "id": "view-in-github",
        "colab_type": "text"
      },
      "source": [
        "<a href=\"https://colab.research.google.com/github/B-Medhin/DSBootcamp/blob/main/Untitled10.ipynb\" target=\"_parent\"><img src=\"https://colab.research.google.com/assets/colab-badge.svg\" alt=\"Open In Colab\"/></a>"
      ]
    },
    {
      "cell_type": "code",
      "execution_count": null,
      "metadata": {
        "id": "BJ4l1oRoKACJ"
      },
      "outputs": [],
      "source": []
    },
    {
      "cell_type": "markdown",
      "source": [
        "We can take climate modeling as an example. If there is a missing data from our databse, there might occur an error in the pridiction of the future climate which results in inaccurate forecasting.\n",
        "Let's take financial risk modeling as an another example. A missing might cause bankruptcy due to the estimation of risky loans which might have a negative impact on our company."
      ],
      "metadata": {
        "id": "u1-IajF8KBnA"
      }
    }
  ]
}